{
  "nbformat": 4,
  "nbformat_minor": 0,
  "metadata": {
    "colab": {
      "name": "Tutorial26_PythonModule.ipynb",
      "provenance": [],
      "authorship_tag": "ABX9TyPJcVKBKpEWbkxXR4eZrnQ3",
      "include_colab_link": true
    },
    "kernelspec": {
      "name": "python3",
      "display_name": "Python 3"
    }
  },
  "cells": [
    {
      "cell_type": "markdown",
      "metadata": {
        "id": "view-in-github",
        "colab_type": "text"
      },
      "source": [
        "<a href=\"https://colab.research.google.com/github/Shambhavi-Gupta/Tutorial26_PythonModule/blob/main/Tutorial26_PythonModule.ipynb\" target=\"_parent\"><img src=\"https://colab.research.google.com/assets/colab-badge.svg\" alt=\"Open In Colab\"/></a>"
      ]
    },
    {
      "cell_type": "code",
      "metadata": {
        "id": "Cc_HbKOT_XFF"
      },
      "source": [
        "import random\r\n",
        "\r\n",
        "number = random.randint(100,200)\r\n",
        "#print(number)\r\n",
        "rand1 = random.random()*50\r\n",
        "#print(rand1)\r\n",
        "list1 = [\"Coffee\",\"Water\",\"Milkshake\",\"Fruits\",\"Vegetables\"]\r\n",
        "a = random.choice(list1)\r\n",
        "#print(a)"
      ],
      "execution_count": null,
      "outputs": []
    }
  ]
}